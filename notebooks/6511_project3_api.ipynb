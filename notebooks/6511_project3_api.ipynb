{
 "cells": [
  {
   "cell_type": "code",
   "execution_count": 24,
   "metadata": {},
   "outputs": [],
   "source": [
    "import requests\n",
    "import json"
   ]
  },
  {
   "cell_type": "code",
   "execution_count": 41,
   "metadata": {},
   "outputs": [],
   "source": [
    "api_url = 'https://www.notexponential.com/aip2pgaming/api/index.php'\n",
    "user_agent = 'Mozilla/5.0 (Windows NT 10.0; Win64; x64) AppleWebKit/537.36'\n",
    "#team1 headers\n",
    "headers1 = {'User-Agent' : user_agent,\n",
    "           'x-api-key' : 'e2cc2a708b2ebaeaea75',\n",
    "           'userId' : '932'}\n",
    "headers2 = {'User-Agent' : user_agent,\n",
    "           'x-api-key' : 'b63d17656c29409d6005',\n",
    "           'userId' : '936'}\n",
    "\n",
    "\n",
    "\n",
    "def create_game(teamId1, teamId2):\n",
    "    # our two teams: 1218, 1220\n",
    "    data = {'teamId1' : str(teamId1),\n",
    "            'teamId2' : str(teamId2),\n",
    "            'type' : 'game',\n",
    "            'gameType' : 'TTT'}\n",
    "    r = requests.post(api_url, data=data, headers=headers1)\n",
    "    return json.loads(r.text)\n",
    ""
   ]
  },
  {
   "cell_type": "code",
   "execution_count": 42,
   "metadata": {},
   "outputs": [
    {
     "output_type": "execute_result",
     "data": {
      "text/plain": "{'code': 'OK', 'gameId': 1386}"
     },
     "metadata": {},
     "execution_count": 42
    }
   ],
   "source": [
    "create_game(1218, 1220)"
   ]
  },
  {
   "cell_type": "code",
   "execution_count": 22,
   "metadata": {},
   "outputs": [],
   "source": [
    "def make_move(teamId, gameId, move, headers): \n",
    "    # TODO: make 'move' as tuple. \n",
    "    # TODO: raise error if move failed.\n",
    "    pass\n",
    "\n",
    "    # move is str\n",
    "    data = {'teamId' : str(teamId),\n",
    "            'move' : move,\n",
    "            'type' : 'move',\n",
    "            'gameId' : str(gameId)}\n",
    "    r = requests.post(api_url, data = data, headers=headers)\n",
    "    return json.loads(r.text)"
   ]
  },
  {
   "cell_type": "code",
   "execution_count": 39,
   "metadata": {},
   "outputs": [
    {
     "output_type": "execute_result",
     "data": {
      "text/plain": "{'moveId': 56329, 'code': 'OK'}"
     },
     "metadata": {},
     "execution_count": 39
    }
   ],
   "source": [
    "make_move(1218, 1368, '3,9', headers1)"
   ]
  },
  {
   "cell_type": "code",
   "execution_count": 65,
   "metadata": {},
   "outputs": [
    {
     "data": {
      "text/plain": [
       "'{\"moveId\":1731,\"code\":\"OK\"}\\r\\n'"
      ]
     },
     "execution_count": 65,
     "metadata": {},
     "output_type": "execute_result"
    }
   ],
   "source": [
    "make_move(1220, 137, '3,4', headers2)"
   ]
  },
  {
   "cell_type": "code",
   "execution_count": 115,
   "metadata": {},
   "outputs": [],
   "source": [
    "def get_moves(gameId, count, headers):\n",
    "    api_url_new = api_url+'?type=moves&gameId={}&count={}'.format(str(gameId), str(count))\n",
    "    r = requests.get(api_url_new, headers=headers)\n",
    "    \n",
    "    # detect oponent # while true \n",
    "    \n",
    "    # TODO: \n",
    "    #       None\n",
    "    #       [('O', (1, 2)), ('X', None)]\n",
    "    #       [('O', (1, 2)), ('X', (2, 3))]\n",
    "    return json.loads(r.text)\n"
   ]
  },
  {
   "cell_type": "code",
   "execution_count": 116,
   "metadata": {},
   "outputs": [],
   "source": [
    "test = get_moves(137, 2, headers1)"
   ]
  },
  {
   "cell_type": "code",
   "execution_count": 118,
   "metadata": {},
   "outputs": [
    {
     "data": {
      "text/plain": [
       "{'moves': [{'moveId': '1731',\n",
       "   'gameId': '137',\n",
       "   'teamId': '1220',\n",
       "   'move': '3,4',\n",
       "   'symbol': 'X',\n",
       "   'moveX': '3',\n",
       "   'moveY': '4'},\n",
       "  {'moveId': '1730',\n",
       "   'gameId': '137',\n",
       "   'teamId': '1218',\n",
       "   'move': '3,3',\n",
       "   'symbol': 'O',\n",
       "   'moveX': '3',\n",
       "   'moveY': '3'}],\n",
       " 'code': 'OK'}"
      ]
     },
     "execution_count": 118,
     "metadata": {},
     "output_type": "execute_result"
    }
   ],
   "source": [
    "test"
   ]
  },
  {
   "cell_type": "code",
   "execution_count": 117,
   "metadata": {},
   "outputs": [
    {
     "name": "stdout",
     "output_type": "stream",
     "text": [
      "{'moves': [{'moveId': '1731', 'gameId': '137', 'teamId': '1220', 'move': '3,4', 'symbol': 'X', 'moveX': '3', 'moveY': '4'}, {'moveId': '1730', 'gameId': '137', 'teamId': '1218', 'move': '3,3', 'symbol': 'O', 'moveX': '3', 'moveY': '3'}], 'code': 'OK'}\n"
     ]
    }
   ],
   "source": [
    "print(test)"
   ]
  },
  {
   "cell_type": "code",
   "execution_count": 111,
   "metadata": {},
   "outputs": [],
   "source": [
    "def get_board_str(gameId, headers):\n",
    "    r = requests.get(api_url+'?type=boardString&gameId={}'.format(str(gameId)), headers=headers)\n",
    "    return json.loads(r.text)"
   ]
  },
  {
   "cell_type": "code",
   "execution_count": 112,
   "metadata": {},
   "outputs": [
    {
     "data": {
      "text/plain": [
       "{'output': '------------\\n------------\\n------------\\n---OX-------\\n------------\\n------------\\n------------\\n------------\\n------------\\n------------\\n------------\\n------------\\n',\n",
       " 'target': 6,\n",
       " 'code': 'OK'}"
      ]
     },
     "execution_count": 112,
     "metadata": {},
     "output_type": "execute_result"
    }
   ],
   "source": [
    "get_board_str(137, headers1)"
   ]
  },
  {
   "cell_type": "code",
   "execution_count": 90,
   "metadata": {},
   "outputs": [
    {
     "data": {
      "text/plain": [
       "'{\"output\":\"------------\\\\n------------\\\\n------------\\\\n---OX-------\\\\n------------\\\\n------------\\\\n------------\\\\n------------\\\\n------------\\\\n------------\\\\n------------\\\\n------------\\\\n\",\"target\":6,\"code\":\"OK\"}\\r\\n'"
      ]
     },
     "execution_count": 90,
     "metadata": {},
     "output_type": "execute_result"
    }
   ],
   "source": [
    "get_board_str(137, headers2)"
   ]
  },
  {
   "cell_type": "code",
   "execution_count": 113,
   "metadata": {},
   "outputs": [],
   "source": [
    "def get_board_map(gameId, headers):\n",
    "    r = requests.get(api_url+'?type=boardMap&gameId={}'.format(str(gameId)), headers=headers)\n",
    "    return json.loads(r.text)"
   ]
  },
  {
   "cell_type": "code",
   "execution_count": 114,
   "metadata": {},
   "outputs": [
    {
     "data": {
      "text/plain": [
       "{'output': '{\"3,3\":\"O\",\"3,4\":\"X\"}', 'target': 6, 'code': 'OK'}"
      ]
     },
     "execution_count": 114,
     "metadata": {},
     "output_type": "execute_result"
    }
   ],
   "source": [
    "get_board_map(137, headers1)"
   ]
  },
  {
   "cell_type": "code",
   "execution_count": 84,
   "metadata": {},
   "outputs": [
    {
     "data": {
      "text/plain": [
       "'{\"output\":\"{\\\\\"3,3\\\\\":\\\\\"O\\\\\",\\\\\"3,4\\\\\":\\\\\"X\\\\\"}\",\"target\":6,\"code\":\"OK\"}\\r\\n'"
      ]
     },
     "execution_count": 84,
     "metadata": {},
     "output_type": "execute_result"
    }
   ],
   "source": []
  },
  {
   "cell_type": "raw",
   "metadata": {},
   "source": []
  }
 ],
 "metadata": {
  "kernelspec": {
   "display_name": "Python 3",
   "language": "python",
   "name": "python3"
  },
  "language_info": {
   "codemirror_mode": {
    "name": "ipython",
    "version": 3
   },
   "file_extension": ".py",
   "mimetype": "text/x-python",
   "name": "python",
   "nbconvert_exporter": "python",
   "pygments_lexer": "ipython3",
   "version": "3.7.4-final"
  }
 },
 "nbformat": 4,
 "nbformat_minor": 4
}