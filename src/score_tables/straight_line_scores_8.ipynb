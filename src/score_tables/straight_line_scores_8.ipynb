{
 "nbformat": 4,
 "nbformat_minor": 2,
 "metadata": {
  "language_info": {
   "name": "python",
   "codemirror_mode": {
    "name": "ipython",
    "version": 3
   },
   "version": "3.7.7-final"
  },
  "orig_nbformat": 2,
  "file_extension": ".py",
  "mimetype": "text/x-python",
  "name": "python",
  "npconvert_exporter": "python",
  "pygments_lexer": "ipython3",
  "version": 3,
  "kernelspec": {
   "name": "python37764bit4d397fd25c924b158258ab67817c9e3e",
   "display_name": "Python 3.7.7 64-bit"
  }
 },
 "cells": [
  {
   "cell_type": "code",
   "execution_count": 21,
   "metadata": {},
   "outputs": [],
   "source": [
    "import pickle\n",
    "\n",
    "big_number = 10**10\n",
    "large_number = 10**15\n",
    "very_large_number = 10**30\n",
    "\n",
    "m = 8\n",
    "straight_line_scores = {}\n",
    "symbols = ['X','O','-']\n",
    "good_symbols = ['X','-']"
   ]
  },
  {
   "cell_type": "code",
   "execution_count": 22,
   "metadata": {},
   "outputs": [
    {
     "output_type": "execute_result",
     "data": {
      "text/plain": "{'XXXXXXXX': 1000000000000000,\n 'XXXXXXX-': 1000000000000000,\n 'XXXXXX-X': 1000000000000000,\n 'XXXXX-XX': 1000000000000000,\n 'XXXX-XXX': 1000000000000000,\n 'XXX-XXXX': 1000000000000000,\n 'XX-XXXXX': 1000000000000000,\n 'X-XXXXXX': 1000000000000000,\n '-XXXXXXX': 1000000000000000}"
     },
     "metadata": {},
     "execution_count": 22
    }
   ],
   "source": [
    "special_combine = {}\n",
    "for l0 in good_symbols:\n",
    "    for l1 in good_symbols:\n",
    "        for l2 in good_symbols:\n",
    "            for l3 in good_symbols:\n",
    "                for l4 in good_symbols:\n",
    "                    for l5 in good_symbols:\n",
    "                        for l6 in good_symbols:\n",
    "                            for l7 in good_symbols:\n",
    "                                s = l0+l1+l2+l3+l4+l5+l6+l7\n",
    "                                #print(s)\n",
    "\n",
    "                                if s.count('X') >= m-1:\n",
    "                                    special_combine[s] = large_number\n",
    "                            \n",
    "\n",
    "special_combine"
   ]
  },
  {
   "cell_type": "code",
   "execution_count": 23,
   "metadata": {},
   "outputs": [],
   "source": [
    "\n",
    "for l0 in good_symbols:\n",
    "    for l1 in good_symbols:\n",
    "        for l2 in good_symbols:\n",
    "            for l3 in good_symbols:\n",
    "                for l4 in good_symbols:\n",
    "                    for l5 in good_symbols:\n",
    "                        for l6 in good_symbols:\n",
    "                            s = l0+l1+l2+l3+l4+l5\n",
    "                            #print(s)\n",
    "\n",
    "                            if s.count('X') >= m-2:\n",
    "                                special_combine[s] = big_number / 100\n",
    ""
   ]
  },
  {
   "cell_type": "code",
   "execution_count": 24,
   "metadata": {},
   "outputs": [],
   "source": [
    "special_combine['-XXXXXX-'] = big_number\n",
    "special_combine['-XXXXXXX-'] = large_number*10\n",
    "special_combine['XXXXXXXX'] = very_large_number"
   ]
  },
  {
   "cell_type": "code",
   "execution_count": 19,
   "metadata": {},
   "outputs": [],
   "source": [
    "straight_line_scores = {}\n",
    "for l0 in symbols:\n",
    "    for l1 in symbols:\n",
    "        for l2 in symbols:\n",
    "            for l3 in symbols:\n",
    "                for l4 in symbols:\n",
    "                    for l5 in symbols:\n",
    "                        for l6 in symbols:\n",
    "                            for l8 in symbols:\n",
    "                                for l9 in symbols:\n",
    "                                    for l10 in symbols:\n",
    "                                        for l11 in symbols:\n",
    "                                            for l12 in symbols:\n",
    "                                                for l13 in symbols:\n",
    "                                                    for l14 in symbols:\n",
    "\n",
    "                                                        s=l0+l1+l2+l3+l4+l5+l6+'X'+l8+l9+l10+l11+l12+l13+l14\n",
    "                                                        score = 0\n",
    "                                                        flag = False\n",
    "                                                        for state in special_combine:\n",
    "                                                            if state in s:\n",
    "                                                                flag = True\n",
    "                                                                score += special_combine[state]\n",
    "                                                        \n",
    "                                                        if flag == True:\n",
    "                                                            straight_line_scores[s] = score\n"
   ]
  },
  {
   "cell_type": "code",
   "execution_count": 20,
   "metadata": {},
   "outputs": [],
   "source": [
    "pickle.dump(straight_line_scores,open('straight_line_scores_X_8.pkl','wb'))"
   ]
  },
  {
   "cell_type": "code",
   "execution_count": null,
   "metadata": {},
   "outputs": [],
   "source": []
  }
 ]
}