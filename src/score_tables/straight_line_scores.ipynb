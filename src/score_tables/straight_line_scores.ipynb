{
 "nbformat": 4,
 "nbformat_minor": 2,
 "metadata": {
  "language_info": {
   "name": "python",
   "codemirror_mode": {
    "name": "ipython",
    "version": 3
   },
   "version": "3.7.7-final"
  },
  "orig_nbformat": 2,
  "file_extension": ".py",
  "mimetype": "text/x-python",
  "name": "python",
  "npconvert_exporter": "python",
  "pygments_lexer": "ipython3",
  "version": 3,
  "kernelspec": {
   "name": "python37764bit4d397fd25c924b158258ab67817c9e3e",
   "display_name": "Python 3.7.7 64-bit"
  }
 },
 "cells": [
  {
   "cell_type": "code",
   "execution_count": 73,
   "metadata": {},
   "outputs": [],
   "source": [
    "import pickle\n",
    "\n",
    "big_number = 10**10\n",
    "large_number = 10**15\n",
    "very_large_number = 10**30\n",
    "\n",
    "m = 6\n",
    "straight_line_scores = {}\n",
    "symbols = ['X','O','-']\n",
    "good_symbols = ['O','-']"
   ]
  },
  {
   "cell_type": "code",
   "execution_count": 74,
   "metadata": {},
   "outputs": [
    {
     "output_type": "execute_result",
     "data": {
      "text/plain": "{'OOOOOO': 1000000000000000,\n 'OOOOO-': 1000000000000000,\n 'OOOO-O': 1000000000000000,\n 'OOO-OO': 1000000000000000,\n 'OO-OOO': 1000000000000000,\n 'O-OOOO': 1000000000000000,\n '-OOOOO': 1000000000000000}"
     },
     "metadata": {},
     "execution_count": 74
    }
   ],
   "source": [
    "special_combine = {}\n",
    "for l0 in good_symbols:\n",
    "    for l1 in good_symbols:\n",
    "        for l2 in good_symbols:\n",
    "            for l3 in good_symbols:\n",
    "                for l4 in good_symbols:\n",
    "                    for l5 in good_symbols:\n",
    "                        s = l0+l1+l2+l3+l4+l5\n",
    "                        #print(s)\n",
    "\n",
    "                        if s.count('O') >= m-1:\n",
    "                            special_combine[s] = large_number\n",
    "                            \n",
    "\n",
    "special_combine"
   ]
  },
  {
   "cell_type": "code",
   "execution_count": 75,
   "metadata": {},
   "outputs": [
    {
     "output_type": "execute_result",
     "data": {
      "text/plain": "{'XXXXX-': 1000000000.0,\n 'XXXX--': 1000000000.0,\n 'XXX-X-': 1000000000.0,\n 'XX-XX-': 1000000000.0,\n 'X-XXX-': 1000000000.0,\n '-XXXX-': 1000000000.0}"
     },
     "metadata": {},
     "execution_count": 75
    }
   ],
   "source": [
    "\n",
    "for l0 in good_symbols:\n",
    "    for l1 in good_symbols:\n",
    "        for l2 in good_symbols:\n",
    "            for l3 in good_symbols:\n",
    "                for l4 in good_symbols:\n",
    "                    s = l0+l1+l2+l3+l4+l5\n",
    "                    #print(s)\n",
    "\n",
    "                    if s.count('O') >= m-2:\n",
    "                        special_combine[s] = big_number / 100"
   ]
  },
  {
   "cell_type": "code",
   "execution_count": 76,
   "metadata": {},
   "outputs": [],
   "source": [
    "special_combine['-OOOO-'] = big_number\n",
    "special_combine['-OOOOO-'] = large_number*10\n",
    "special_combine['OOOOOO'] = very_large_number"
   ]
  },
  {
   "cell_type": "code",
   "execution_count": 77,
   "metadata": {},
   "outputs": [],
   "source": [
    "straight_line_scores = {}\n",
    "for l0 in symbols:\n",
    "    for l1 in symbols:\n",
    "        for l2 in symbols:\n",
    "            for l3 in symbols:\n",
    "                for l4 in symbols:\n",
    "                    for l6 in symbols:\n",
    "                        for l7 in symbols:\n",
    "                            for l8 in symbols:\n",
    "                                for l9 in symbols:\n",
    "                                    for l10 in symbols:\n",
    "\n",
    "                                        s=l0+l1+l2+l3+l4+'O'+l6+l7+l8+l9+l10\n",
    "                                        score = 0\n",
    "                                        flag = False\n",
    "                                        for state in special_combine:\n",
    "                                            if state in s:\n",
    "                                                flag = True\n",
    "                                                score += special_combine[state]\n",
    "                                        \n",
    "                                        if flag == True:\n",
    "                                            straight_line_scores[s] = score\n",
    ""
   ]
  },
  {
   "cell_type": "code",
   "execution_count": 78,
   "metadata": {},
   "outputs": [],
   "source": [
    "#straight_line_scores['-OOOOO-XXXX']"
   ]
  },
  {
   "cell_type": "code",
   "execution_count": 79,
   "metadata": {},
   "outputs": [],
   "source": [
    "pickle.dump(straight_line_scores,open('straight_line_scores_O_6.pkl','wb'))"
   ]
  },
  {
   "cell_type": "code",
   "execution_count": 80,
   "metadata": {},
   "outputs": [],
   "source": [
    "#straight_line_scores['-XXXXX-XXXX']"
   ]
  },
  {
   "cell_type": "code",
   "execution_count": null,
   "metadata": {},
   "outputs": [],
   "source": []
  }
 ]
}