{
 "nbformat": 4,
 "nbformat_minor": 2,
 "metadata": {
  "language_info": {
   "name": "python",
   "codemirror_mode": {
    "name": "ipython",
    "version": 3
   },
   "version": "3.7.4-final"
  },
  "orig_nbformat": 2,
  "file_extension": ".py",
  "mimetype": "text/x-python",
  "name": "python",
  "npconvert_exporter": "python",
  "pygments_lexer": "ipython3",
  "version": 3,
  "kernelspec": {
   "name": "python37464bitbaseconda4a4eef5c921a4747a14d73bcd3654411",
   "display_name": "Python 3.7.4 64-bit ('base': conda)"
  }
 },
 "cells": [
  {
   "cell_type": "code",
   "execution_count": 1,
   "metadata": {},
   "outputs": [],
   "source": [
    "n = 12\n",
    "b = ('-' * n + '\\n') * n"
   ]
  },
  {
   "cell_type": "code",
   "execution_count": 2,
   "metadata": {},
   "outputs": [
    {
     "output_type": "execute_result",
     "data": {
      "text/plain": "'------------\\n------------\\n------------\\n------------\\n------------\\n------------\\n------------\\n------------\\n------------\\n------------\\n------------\\n------------\\n'"
     },
     "metadata": {},
     "execution_count": 2
    }
   ],
   "source": [
    "b"
   ]
  },
  {
   "cell_type": "code",
   "execution_count": 53,
   "metadata": {},
   "outputs": [
    {
     "output_type": "execute_result",
     "data": {
      "text/plain": "2"
     },
     "metadata": {},
     "execution_count": 53
    }
   ],
   "source": [
    "m = [('1', (1, 2)), (2, (3, 4)), (1, (5, 6))]\n",
    "m.insert(0, (2, (4, 5)))\n",
    "m[0][0]"
   ]
  },
  {
   "cell_type": "code",
   "execution_count": 126,
   "metadata": {},
   "outputs": [],
   "source": [
    "import numpy as np\n",
    "from copy import copy\n",
    "\n",
    "class Board(object):\n",
    "    \"\"\"The board of generalized TIC-TAC-TOE game.\n",
    "    \"\"\"\n",
    "    BLANK_SPACE = '-'\n",
    "    PLAYER_1 = 'O'\n",
    "    PLAYER_2 = 'X'\n",
    "\n",
    "    def __init__(self, board, moves=None):\n",
    "        self.board = board\n",
    "        self.moves = moves if moves else []\n",
    "        self.moved = False\n",
    "        self.width = len(board.split('\\n')[0])\n",
    "        self.height = len(board.split('\\n')[:-1])\n",
    "\n",
    "        self._board_state = self.get_board_state()\n",
    "    \n",
    "    def get_board_state(self):\n",
    "        state = np.empty((self.height, self.width), dtype='str')\n",
    "        for i, row in enumerate(self.board.split('\\n')[:-1]):\n",
    "            for j, cell in enumerate(row):\n",
    "                if cell in [self.BLANK_SPACE, self.PLAYER_1, self.PLAYER_2]:\n",
    "                    state[i, j] = cell\n",
    "                else:\n",
    "                    raise ValueError(\"Illegal input board!\")\n",
    "        return state\n",
    "\n",
    "    def copy(self):\n",
    "        return Board(self.board, self.moves)\n",
    "\n",
    "    def forecast_move(self, move, player):\n",
    "        new_board = self.copy()\n",
    "        new_board.apply_move(move, player)\n",
    "        return new_board\n",
    "\n",
    "    def move_is_legal(self, move):\n",
    "        # TODO: Note the index starts from 0\n",
    "        i = move[0]\n",
    "        j = move[1]\n",
    "        return (0 <= i < self.height and 0 <= j < self.width and\n",
    "                self._board_state[i, j] == self.BLANK_SPACE and not self.moved)\n",
    "\n",
    "    @property\n",
    "    def legal_moves(self):\n",
    "        return np.argwhere(self._board_state == self.BLANK_SPACE)\n",
    "\n",
    "    def apply_move(self, move, player):\n",
    "        if self.move_is_legal(move):\n",
    "            self._board_state[move[0], move[1]] = player\n",
    "            self.board = '\\n'.join([''.join(row) for row in self._board_state]) + '\\n'\n",
    "            self.moves.insert(0, (player, tuple(move)))\n",
    "            self.moved = True\n",
    "        else:\n",
    "            raise ValueError('Illegal move!')\n",
    "    \n",
    "    def is_winner(self, player):\n",
    "        if self.moves and player == self.moves[0][0]:\n",
    "            latest_move = self.moves[0][1]\n",
    "            directions = (((0, 1), (0, -1)), ((1, 0), (-1, 0)),\n",
    "                          ((1, 1), (-1, -1)), ((1, -1), (-1, 1)))\n",
    "            for bi_directions in directions:\n",
    "                count = 1\n",
    "                for d_i, d_j in bi_directions:\n",
    "                    i, j = latest_move\n",
    "                    while True:\n",
    "                        i, j = i + d_i, j + d_j\n",
    "                        if (not self.move_is_legal((i, j)) \\\n",
    "                                and self._board_state[i, j] != player):\n",
    "                            break\n",
    "                        count += 1\n",
    "                        if count == 5:\n",
    "                            return True\n",
    "            return False\n",
    "        else: \n",
    "            raise ValueError('Input player is not activated!')\n",
    "    \n",
    "    @property\n",
    "    def board_for_print(self):\n",
    "\n",
    "        axises = list('0123456789ABCDEFGHIJKLMNOPQRSTUVWXYZ')\n",
    "        out = '    ' + '   '.join(axises[:self.width]) + '\\n\\r'\n",
    "        out += '  ' + '-' * (self.width * 4 + 1) + '\\n\\r'\n",
    "        for i in range(self.height):\n",
    "            out += axises[i] + ' | '\n",
    "            for j in range(self.width):\n",
    "                if self._board_state[i, j] == '-':\n",
    "                    out += ' '\n",
    "                else:\n",
    "                    out += self._board_state[i, j]\n",
    "                out += ' | '\n",
    "            out += '\\n\\r'\n",
    "            out += '  ' + '-' * (self.width * 4 + 1) + '\\n\\r'\n",
    "\n",
    "        return out"
   ]
  },
  {
   "cell_type": "code",
   "execution_count": 127,
   "metadata": {},
   "outputs": [],
   "source": [
    "b = '------------\\n------------\\n------------\\n------------\\n------------\\n------------\\n------------\\n------------\\n------------\\n------------\\n------------\\n------------\\n'\n",
    "\n",
    "B = Board(b, None)"
   ]
  },
  {
   "cell_type": "code",
   "execution_count": 144,
   "metadata": {},
   "outputs": [
    {
     "output_type": "stream",
     "name": "stdout",
     "text": "0   1   2   3   4   5   6   7   8   9   A   B\n  -------------------------------------------------\n0 |   |   |   |   |   |   |   |   |   |   |   |   | \n  -------------------------------------------------\n1 |   |   |   |   |   |   |   |   |   |   |   |   | \n  -------------------------------------------------\n2 |   |   |   |   |   |   |   |   |   |   |   |   | \n  -------------------------------------------------\n3 |   |   |   |   |   |   |   |   |   |   |   |   | \n  -------------------------------------------------\n4 |   |   |   |   |   | X |   | X | X |   | X |   | \n  -------------------------------------------------\n5 |   |   |   |   | O | O | O | O | O |   |   |   | \n  -------------------------------------------------\n6 |   |   |   |   |   |   |   |   |   |   |   |   | \n  -------------------------------------------------\n7 |   |   |   |   |   |   |   |   |   |   |   |   | \n  -------------------------------------------------\n8 |   |   |   |   |   |   |   |   |   |   |   |   | \n  -------------------------------------------------\n9 |   |   |   |   |   |   |   |   |   |   |   |   | \n  -------------------------------------------------\nA |   |   |   |   |   |   |   |   |   |   |   |   | \n  -------------------------------------------------\nB |   |   |   |   |   |   |   |   |   |   |   |   | \n  -------------------------------------------------\n\n"
    }
   ],
   "source": [
    "B = B.forecast_move((5, 8), 'O')\n",
    "print(B.board_for_print)"
   ]
  },
  {
   "cell_type": "code",
   "execution_count": 143,
   "metadata": {},
   "outputs": [
    {
     "output_type": "stream",
     "name": "stdout",
     "text": "0   1   2   3   4   5   6   7   8   9   A   B\n  -------------------------------------------------\n0 |   |   |   |   |   |   |   |   |   |   |   |   | \n  -------------------------------------------------\n1 |   |   |   |   |   |   |   |   |   |   |   |   | \n  -------------------------------------------------\n2 |   |   |   |   |   |   |   |   |   |   |   |   | \n  -------------------------------------------------\n3 |   |   |   |   |   |   |   |   |   |   |   |   | \n  -------------------------------------------------\n4 |   |   |   |   |   | X |   | X | X |   | X |   | \n  -------------------------------------------------\n5 |   |   |   |   | O | O | O | O |   |   |   |   | \n  -------------------------------------------------\n6 |   |   |   |   |   |   |   |   |   |   |   |   | \n  -------------------------------------------------\n7 |   |   |   |   |   |   |   |   |   |   |   |   | \n  -------------------------------------------------\n8 |   |   |   |   |   |   |   |   |   |   |   |   | \n  -------------------------------------------------\n9 |   |   |   |   |   |   |   |   |   |   |   |   | \n  -------------------------------------------------\nA |   |   |   |   |   |   |   |   |   |   |   |   | \n  -------------------------------------------------\nB |   |   |   |   |   |   |   |   |   |   |   |   | \n  -------------------------------------------------\n\n"
    }
   ],
   "source": [
    "B = B.forecast_move((4, 10), 'X')\n",
    "print(B.board_for_print)"
   ]
  },
  {
   "cell_type": "code",
   "execution_count": 145,
   "metadata": {},
   "outputs": [
    {
     "output_type": "execute_result",
     "data": {
      "text/plain": "True"
     },
     "metadata": {},
     "execution_count": 145
    }
   ],
   "source": [
    "B.is_winner('O')"
   ]
  },
  {
   "cell_type": "code",
   "execution_count": 147,
   "metadata": {},
   "outputs": [],
   "source": [
    "a = input('inp: ')"
   ]
  },
  {
   "cell_type": "code",
   "execution_count": 158,
   "metadata": {},
   "outputs": [
    {
     "output_type": "execute_result",
     "data": {
      "text/plain": "True"
     },
     "metadata": {},
     "execution_count": 158
    }
   ],
   "source": [
    "type(eval(a)) is tuple"
   ]
  },
  {
   "cell_type": "code",
   "execution_count": 163,
   "metadata": {},
   "outputs": [
    {
     "output_type": "execute_result",
     "data": {
      "text/plain": "0"
     },
     "metadata": {},
     "execution_count": 163
    }
   ],
   "source": [
    "a = np.array([-547240, 503320, 11407360, 11407360])"
   ]
  },
  {
   "cell_type": "code",
   "execution_count": 171,
   "metadata": {},
   "outputs": [
    {
     "output_type": "execute_result",
     "data": {
      "text/plain": "True"
     },
     "metadata": {},
     "execution_count": 171
    }
   ],
   "source": [
    "a = np.array(['-', '0'])\n",
    "len(np.argwhere(a == 'X')) == 0"
   ]
  },
  {
   "cell_type": "code",
   "execution_count": 176,
   "metadata": {},
   "outputs": [],
   "source": [
    "a = '----------\\n----X-----\\n-------O--\\n----------\\n----------\\n'"
   ]
  },
  {
   "cell_type": "code",
   "execution_count": 178,
   "metadata": {},
   "outputs": [
    {
     "output_type": "execute_result",
     "data": {
      "text/plain": "'??????????????x????????????o??????????????????????'"
     },
     "metadata": {},
     "execution_count": 178
    }
   ],
   "source": [
    "''.join(a.split('\\n')).replace('-', '?').replace('X', 'x').replace('O', 'o')"
   ]
  },
  {
   "cell_type": "code",
   "execution_count": 179,
   "metadata": {},
   "outputs": [],
   "source": [
    "import pickle as pkl"
   ]
  },
  {
   "cell_type": "code",
   "execution_count": 180,
   "metadata": {},
   "outputs": [],
   "source": [
    "a = {}"
   ]
  },
  {
   "cell_type": "code",
   "execution_count": 183,
   "metadata": {},
   "outputs": [],
   "source": [
    "with open('a.p', 'wb') as f:\n",
    "    pkl.dump(a, f)"
   ]
  },
  {
   "cell_type": "code",
   "execution_count": 184,
   "metadata": {},
   "outputs": [],
   "source": [
    "with open('a.p', 'rb') as f:\n",
    "    a_ = pkl.load(f)"
   ]
  },
  {
   "cell_type": "code",
   "execution_count": 185,
   "metadata": {},
   "outputs": [
    {
     "output_type": "execute_result",
     "data": {
      "text/plain": "{}"
     },
     "metadata": {},
     "execution_count": 185
    }
   ],
   "source": [
    "a_"
   ]
  },
  {
   "cell_type": "code",
   "execution_count": 186,
   "metadata": {},
   "outputs": [
    {
     "output_type": "execute_result",
     "data": {
      "text/plain": "dict"
     },
     "metadata": {},
     "execution_count": 186
    }
   ],
   "source": [
    "type(a_)"
   ]
  },
  {
   "cell_type": "code",
   "execution_count": null,
   "metadata": {},
   "outputs": [],
   "source": [
    "'xox-.p'\n",
    "\n",
    "'oxo-xxoo-'"
   ]
  },
  {
   "cell_type": "code",
   "execution_count": 188,
   "metadata": {},
   "outputs": [],
   "source": [
    "import sys"
   ]
  },
  {
   "cell_type": "code",
   "execution_count": 197,
   "metadata": {},
   "outputs": [
    {
     "output_type": "execute_result",
     "data": {
      "text/plain": "28"
     },
     "metadata": {},
     "execution_count": 197
    }
   ],
   "source": [
    "sys.getsizeof()"
   ]
  },
  {
   "cell_type": "code",
   "execution_count": 190,
   "metadata": {},
   "outputs": [
    {
     "output_type": "execute_result",
     "data": {
      "text/plain": "24"
     },
     "metadata": {},
     "execution_count": 190
    }
   ],
   "source": [
    "sys.getsizeof(round(1., 2))"
   ]
  },
  {
   "cell_type": "code",
   "execution_count": 196,
   "metadata": {},
   "outputs": [
    {
     "output_type": "execute_result",
     "data": {
      "text/plain": "1.1231232"
     },
     "metadata": {},
     "execution_count": 196
    }
   ],
   "source": [
    "np.float32(1.123123123123123123123123123123123123123123123123123123)"
   ]
  },
  {
   "cell_type": "code",
   "execution_count": 1,
   "metadata": {},
   "outputs": [],
   "source": [
    "from board import Board"
   ]
  },
  {
   "cell_type": "code",
   "execution_count": 2,
   "metadata": {},
   "outputs": [
    {
     "output_type": "execute_result",
     "data": {
      "text/plain": "False"
     },
     "metadata": {},
     "execution_count": 2
    }
   ],
   "source": [
    "Board('-XO-O--XXOOO\\nOO-XO-XX-XOX\\n-OO---O-OO-O\\n--XOXXXOO-O-\\n-X--XOO--OXO\\nX-XX-XO-OOX-\\nXX--OX-OO-XO\\nXX-XO--XX-X-\\nOXOOO--OXOX-\\nXX-XX-OXXX-O\\nX-OOO-XO--OX\\nXXOOX-O---OX\\n', 6, {'O': (8, 0), 'X': (11, 1)}).is_winner('X')"
   ]
  },
  {
   "cell_type": "code",
   "execution_count": 11,
   "metadata": {},
   "outputs": [],
   "source": [
    "import numpy as np\n",
    "\n",
    "def surround_moves(board, move, radius):\n",
    "    legal_moves = board.legal_moves.tolist()\n",
    "    \n",
    "    moves = []\n",
    "    dist = []\n",
    "    for i in range(move[0] - radius, move[0] + radius + 1):\n",
    "        for j in range(move[1] - radius, move[1] + radius + 1):\n",
    "            if [i, j] in legal_moves:\n",
    "                moves.append((i, j))\n",
    "                dist.append(max(abs(move[0] - i), abs(move[1] - j)))\n",
    "\n",
    "    moves = [tuple(m) for m in np.array(moves)[np.argsort(dist)]]\n",
    "\n",
    "    print(moves)\n",
    "\n",
    "    return moves\n",
    "\n",
    "\n",
    "def limited_random_init(board, n_step):\n",
    "        \n",
    "    radius = 2\n",
    "    \n",
    "    if n_step == 0:\n",
    "        board_width = board.width\n",
    "        board_height = board.height\n",
    "        center_move = (board_height // 2, board_width // 2)\n",
    "        moves = surround_moves(board, center_move, radius)\n",
    "        return moves[np.random.choice(len(moves))]\n",
    "    else:\n",
    "        return None\n"
   ]
  },
  {
   "cell_type": "code",
   "execution_count": 12,
   "metadata": {},
   "outputs": [
    {
     "output_type": "stream",
     "name": "stdout",
     "text": "[(3, 4), (4, 4), (2, 2), (2, 3), (2, 4), (4, 3), (4, 2), (5, 3), (5, 2), (5, 1), (4, 5), (4, 1), (1, 1), (5, 4), (3, 1), (2, 5), (2, 1), (1, 5), (1, 4), (1, 3), (1, 2), (3, 5), (5, 5)]\n    0   1   2   3   4   5   6\n  -----------------------------\n0 |   |   |   |   |   |   |   | \n  -----------------------------\n1 |   |   |   |   |   |   |   | \n  -----------------------------\n2 |   |   |   |   |   |   |   | \n  -----------------------------\n3 |   |   | X | X |   |   |   | \n  -----------------------------\n4 |   |   |   |   |   |   |   | \n  -----------------------------\n5 |   |   |   |   |   |   |   | \n  -----------------------------\n6 |   |   |   |   |   |   |   | \n  -----------------------------\n\n(3, 4)\n(3, 4)\n(4, 4)\n(4, 4)\n(2, 2)\n(2, 2)\n(2, 3)\n(2, 3)\n(2, 4)\n(2, 4)\n(4, 3)\n(4, 3)\n(4, 2)\n(4, 2)\n(5, 3)\n(5, 3)\n(5, 2)\n(5, 2)\n(5, 1)\n(5, 1)\n(4, 5)\n(4, 5)\n(4, 1)\n(4, 1)\n(1, 1)\n(1, 1)\n(5, 4)\n(5, 4)\n(3, 1)\n(3, 1)\n(2, 5)\n(2, 5)\n(2, 1)\n(2, 1)\n(1, 5)\n(1, 5)\n(1, 4)\n(1, 4)\n(1, 3)\n(1, 3)\n(1, 2)\n(1, 2)\n(3, 5)\n(3, 5)\n(5, 5)\n(5, 5)\n    0   1   2   3   4   5   6\n  -----------------------------\n0 |   |   |   |   |   |   |   | \n  -----------------------------\n1 |   | O | O | O | O | O |   | \n  -----------------------------\n2 |   | O | O | O | O | O |   | \n  -----------------------------\n3 |   | O | X | X | O | O |   | \n  -----------------------------\n4 |   | O | O | O | O | O |   | \n  -----------------------------\n5 |   | O | O | O | O | O |   | \n  -----------------------------\n6 |   |   |   |   |   |   |   | \n  -----------------------------\n\n"
    },
    {
     "output_type": "execute_result",
     "data": {
      "text/plain": "(5, 2)"
     },
     "metadata": {},
     "execution_count": 12
    }
   ],
   "source": [
    "limited_random_init(B, 0)"
   ]
  },
  {
   "cell_type": "code",
   "execution_count": 6,
   "metadata": {},
   "outputs": [
    {
     "output_type": "execute_result",
     "data": {
      "text/plain": "True"
     },
     "metadata": {},
     "execution_count": 6
    }
   ],
   "source": [
    "import numpy as np\n",
    "[10, 1] in np.array([[3, 2], [10, 1]]).tolist()"
   ]
  },
  {
   "cell_type": "code",
   "execution_count": 6,
   "metadata": {},
   "outputs": [],
   "source": [
    "def get_opponent(player_mark):\n",
    "    if player_mark == 'X':\n",
    "        return 'O'\n",
    "    elif player_mark == 'O':\n",
    "        return 'X'\n",
    "    else:\n",
    "        return None\n",
    "\n",
    "def surround_moves(board, move, radius):\n",
    "    legal_moves = board.legal_moves.tolist()\n",
    "    \n",
    "    moves = []\n",
    "    dist = []\n",
    "    for i in range(move[0] - radius, move[0] + radius + 1):\n",
    "        for j in range(move[1] - radius, move[1] + radius + 1):\n",
    "            if [i, j] in legal_moves:\n",
    "                moves.append((i, j))\n",
    "                dist.append(max(abs(move[0] - i), abs(move[1] - j)))\n",
    "\n",
    "    moves = [tuple(m) for m in np.array(moves)[np.argsort(dist)]]\n",
    "\n",
    "    return moves\n",
    "\n",
    "\n",
    "def star_moves_block(board, moves, move, player_mark, opponent_mark, radius):\n",
    "    directions = ((0, 1), (0, -1), (1, 0), (-1, 0),\n",
    "                (1, 1), (-1, -1), (1, -1), (-1, 1))\n",
    "\n",
    "    for d_i, d_j in directions:\n",
    "        count = 0\n",
    "        i, j = move\n",
    "        while count < radius - 1 and board.on_the_board((i + d_i, j + d_j)):\n",
    "            i, j = i + d_i, j + d_j\n",
    "            if board.get_mark((i, j)) == opponent_mark:\n",
    "                break\n",
    "            if (i, j) in moves:\n",
    "                continue\n",
    "            if board.get_mark((i, j)) != player_mark:\n",
    "                moves.append((i, j))\n",
    "            count += 1\n",
    "            \n",
    "    return moves\n",
    "\n",
    "def surround_star_block(board, move, player_mark, \n",
    "                        opponent_mark, radius_sur, radius_star):\n",
    "    if move:\n",
    "        moves = surround_moves(board, move, radius_sur)\n",
    "        moves = star_moves_block(\n",
    "            board, moves, move, player_mark, opponent_mark, radius_star)\n",
    "        return moves\n",
    "    else:\n",
    "        return []\n",
    "    \n",
    "    \n",
    "def consider_both(board, player_mark):\n",
    "    \n",
    "    radius_sur = 1\n",
    "    radius_star = 3\n",
    "    \n",
    "    last_moves = board.last_moves\n",
    "    self_last_move = last_moves[player_mark]\n",
    "    opp_mark = get_opponent(player_mark) \n",
    "    opp_last_move = last_moves[opp_mark]\n",
    "    \n",
    "    moves = surround_star_block(\n",
    "        board, self_last_move, player_mark, opp_mark, radius_sur, radius_star)\n",
    "    moves_opp = surround_star_block(\n",
    "        board, opp_last_move, opp_mark, player_mark, radius_sur, radius_star)\n",
    "\n",
    "    for m in moves_opp:\n",
    "        if m not in moves:\n",
    "            moves.append(m)\n",
    "    \n",
    "    return moves"
   ]
  },
  {
   "cell_type": "code",
   "execution_count": 7,
   "metadata": {},
   "outputs": [
    {
     "output_type": "stream",
     "name": "stdout",
     "text": "0   1   2   3   4   5   6\n  -----------------------------\n0 |   |   |   |   |   |   |   | \n  -----------------------------\n1 |   |   |   |   |   |   |   | \n  -----------------------------\n2 |   |   | X |   |   |   |   | \n  -----------------------------\n3 |   |   |   | O |   |   |   | \n  -----------------------------\n4 |   |   |   |   | X |   |   | \n  -----------------------------\n5 |   |   |   |   |   |   |   | \n  -----------------------------\n6 |   |   |   |   |   |   |   | \n  -----------------------------\n\n    0   1   2   3   4   5   6\n  -----------------------------\n0 |   |   |   | O |   |   | O | \n  -----------------------------\n1 |   |   |   | O | O | O |   | \n  -----------------------------\n2 |   |   | X | O | O |   | O | \n  -----------------------------\n3 | O | O | O | O | O | O | O | \n  -----------------------------\n4 |   | O | O | O | X | O | O | \n  -----------------------------\n5 |   | O |   | O | O | O |   | \n  -----------------------------\n6 | O |   | O | O | O |   | O | \n  -----------------------------\n\n"
    }
   ],
   "source": [
    "B = Board('-------\\n-------\\n--X----\\n---O---' \\\n",
    "        '\\n----X--\\n-------\\n-------\\n', 4, {'X': (4, 4), 'O': (3, 3)})\n",
    "print(B.board_for_print)\n",
    "for m in consider_both(B, 'O'):\n",
    "    B = B.get_moved_board(m, 'O')\n",
    "\n",
    "print(B.board_for_print)"
   ]
  },
  {
   "cell_type": "code",
   "execution_count": 138,
   "metadata": {},
   "outputs": [
    {
     "output_type": "execute_result",
     "data": {
      "text/plain": "[1, 2, 3, 4, 5]"
     },
     "metadata": {},
     "execution_count": 138
    }
   ],
   "source": [
    "list(range(1, 6))"
   ]
  },
  {
   "cell_type": "code",
   "execution_count": 3,
   "metadata": {},
   "outputs": [],
   "source": [
    "class GameError(Exception):\n",
    "    \"\"\"Subclass base exception for code clarity. \"\"\"\n",
    "    pass"
   ]
  },
  {
   "cell_type": "code",
   "execution_count": 4,
   "metadata": {},
   "outputs": [
    {
     "output_type": "error",
     "ename": "KeyboardInterrupt",
     "evalue": "",
     "traceback": [
      "\u001b[0;31m---------------------------------------------------------------------------\u001b[0m",
      "\u001b[0;31mKeyboardInterrupt\u001b[0m                         Traceback (most recent call last)",
      "\u001b[0;32m<ipython-input-4-faaafec8af6a>\u001b[0m in \u001b[0;36m<module>\u001b[0;34m\u001b[0m\n\u001b[1;32m      4\u001b[0m \u001b[0;32mwhile\u001b[0m \u001b[0;32mTrue\u001b[0m\u001b[0;34m:\u001b[0m\u001b[0;34m\u001b[0m\u001b[0;34m\u001b[0m\u001b[0m\n\u001b[1;32m      5\u001b[0m     \u001b[0;32mtry\u001b[0m\u001b[0;34m:\u001b[0m\u001b[0;34m\u001b[0m\u001b[0;34m\u001b[0m\u001b[0m\n\u001b[0;32m----> 6\u001b[0;31m         \u001b[0mmake_error\u001b[0m\u001b[0;34m\u001b[0m\u001b[0;34m\u001b[0m\u001b[0m\n\u001b[0m\u001b[1;32m      7\u001b[0m     \u001b[0;32mexcept\u001b[0m \u001b[0mGameError\u001b[0m\u001b[0;34m:\u001b[0m\u001b[0;34m\u001b[0m\u001b[0;34m\u001b[0m\u001b[0m\n\u001b[1;32m      8\u001b[0m         \u001b[0mprint\u001b[0m\u001b[0;34m(\u001b[0m\u001b[0;34m'111'\u001b[0m\u001b[0;34m)\u001b[0m\u001b[0;34m\u001b[0m\u001b[0;34m\u001b[0m\u001b[0m\n",
      "\u001b[0;31mKeyboardInterrupt\u001b[0m: "
     ]
    }
   ],
   "source": [
    "def make_error():\n",
    "    raise GameError\n",
    "\n",
    "while True:\n",
    "    try:\n",
    "        make_error\n",
    "    except GameError:\n",
    "        print('111')\n",
    "        break\n",
    ""
   ]
  },
  {
   "cell_type": "code",
   "execution_count": 3,
   "metadata": {},
   "outputs": [
    {
     "output_type": "stream",
     "name": "stdout",
     "text": "0   1   2   3   4   5   6\n  -----------------------------\n0 |   |   |   |   |   |   |   | \n  -----------------------------\n1 |   |   |   |   |   |   |   | \n  -----------------------------\n2 |   |   | X |   |   |   |   | \n  -----------------------------\n3 |   |   |   | O |   | X |   | \n  -----------------------------\n4 |   |   |   |   | X |   |   | \n  -----------------------------\n5 |   |   |   |   |   |   |   | \n  -----------------------------\n6 |   |   |   |   |   |   |   | \n  -----------------------------\n\n['OOO--X----O', 'OOO--X----O', 'OOO--XOX--O', 'OOO--XX-OOO']\n"
    }
   ],
   "source": [
    "from board import Board\n",
    "\n",
    "def get_opponent(player_mark):\n",
    "    if player_mark == 'X':\n",
    "        return 'O'\n",
    "    elif player_mark == 'O':\n",
    "        return 'X'\n",
    "    else:\n",
    "        return None\n",
    "        \n",
    "def star_4_drections(board, player_mark, r):\n",
    "    \n",
    "    # Last moves of current board\n",
    "    last_moves = board.last_moves\n",
    "    \n",
    "    # Directions of different ways\n",
    "    directions = (((0, 1), (0, -1)), ((1, 0), (-1, 0)),\n",
    "                ((1, 1), (-1, -1)), ((1, -1), (-1, 1)))\n",
    "    \n",
    "    # The list storing moves of different directions\n",
    "    moves_list = [player_mark] * len(directions)\n",
    "    \n",
    "    # Get moves\n",
    "    for i_direct, bi_directions in enumerate(directions):\n",
    "        for i_bi, (d_i, d_j) in enumerate(bi_directions):\n",
    "            count = 0\n",
    "            i, j = last_moves[player_mark]\n",
    "            while count < r:\n",
    "                i, j = i + d_i, j + d_j\n",
    "                if board.on_the_board((i, j)):\n",
    "                    m = board.get_mark((i, j))\n",
    "                else:\n",
    "                    m = get_opponent(player_mark)\n",
    "                if i_bi:\n",
    "                    moves_list[i_direct] += m\n",
    "                else:\n",
    "                    moves_list[i_direct] = m + moves_list[i_direct]\n",
    "                count += 1\n",
    "    \n",
    "    # ['--X--', '--X--', '--XOX', '--XX-']\n",
    "    return moves_list\n",
    "\n",
    "B = Board('-------\\n-------\\n--X----\\n---O-X-' \\\n",
    "        '\\n----X--\\n-------\\n-------\\n', 4, {'X': (4, 4), 'O': (3, 3)})\n",
    "\n",
    "print(B.board_for_print)\n",
    "print(star_4_drections(B, 'X', 5))"
   ]
  },
  {
   "cell_type": "code",
   "execution_count": 1,
   "metadata": {},
   "outputs": [
    {
     "output_type": "stream",
     "name": "stdout",
     "text": "0   1   2   3   4   5   6\n  -----------------------------\n0 |   |   |   |   |   |   |   | \n  -----------------------------\n1 |   |   |   |   |   |   |   | \n  -----------------------------\n2 |   |   | X |   |   |   |   | \n  -----------------------------\n3 |   |   |   | O |   | X |   | \n  -----------------------------\n4 |   |   |   |   | X |   |   | \n  -----------------------------\n5 |   |   |   |   |   |   |   | \n  -----------------------------\n6 |   |   |   |   |   |   |   | \n  -----------------------------\n\n"
    },
    {
     "output_type": "error",
     "ename": "NameError",
     "evalue": "name 'get_opponent' is not defined",
     "traceback": [
      "\u001b[0;31m---------------------------------------------------------------------------\u001b[0m",
      "\u001b[0;31mNameError\u001b[0m                                 Traceback (most recent call last)",
      "\u001b[0;32m<ipython-input-1-07848adb4b0f>\u001b[0m in \u001b[0;36m<module>\u001b[0;34m\u001b[0m\n\u001b[1;32m     33\u001b[0m \u001b[0;34m\u001b[0m\u001b[0m\n\u001b[1;32m     34\u001b[0m \u001b[0mprint\u001b[0m\u001b[0;34m(\u001b[0m\u001b[0mB\u001b[0m\u001b[0;34m.\u001b[0m\u001b[0mboard_for_print\u001b[0m\u001b[0;34m)\u001b[0m\u001b[0;34m\u001b[0m\u001b[0;34m\u001b[0m\u001b[0m\n\u001b[0;32m---> 35\u001b[0;31m \u001b[0mprint\u001b[0m\u001b[0;34m(\u001b[0m\u001b[0mstar_8_drections\u001b[0m\u001b[0;34m(\u001b[0m\u001b[0mB\u001b[0m\u001b[0;34m,\u001b[0m \u001b[0;34m'X'\u001b[0m\u001b[0;34m,\u001b[0m \u001b[0;36m5\u001b[0m\u001b[0;34m)\u001b[0m\u001b[0;34m)\u001b[0m\u001b[0;34m\u001b[0m\u001b[0;34m\u001b[0m\u001b[0m\n\u001b[0m",
      "\u001b[0;32m<ipython-input-1-07848adb4b0f>\u001b[0m in \u001b[0;36mstar_8_drections\u001b[0;34m(board, player_mark, r)\u001b[0m\n\u001b[1;32m     22\u001b[0m                 \u001b[0mm\u001b[0m \u001b[0;34m=\u001b[0m \u001b[0mboard\u001b[0m\u001b[0;34m.\u001b[0m\u001b[0mget_mark\u001b[0m\u001b[0;34m(\u001b[0m\u001b[0;34m(\u001b[0m\u001b[0mi\u001b[0m\u001b[0;34m,\u001b[0m \u001b[0mj\u001b[0m\u001b[0;34m)\u001b[0m\u001b[0;34m)\u001b[0m\u001b[0;34m\u001b[0m\u001b[0;34m\u001b[0m\u001b[0m\n\u001b[1;32m     23\u001b[0m             \u001b[0;32melse\u001b[0m\u001b[0;34m:\u001b[0m\u001b[0;34m\u001b[0m\u001b[0;34m\u001b[0m\u001b[0m\n\u001b[0;32m---> 24\u001b[0;31m                 \u001b[0mm\u001b[0m \u001b[0;34m=\u001b[0m \u001b[0mget_opponent\u001b[0m\u001b[0;34m(\u001b[0m\u001b[0mplayer_mark\u001b[0m\u001b[0;34m)\u001b[0m\u001b[0;34m\u001b[0m\u001b[0;34m\u001b[0m\u001b[0m\n\u001b[0m\u001b[1;32m     25\u001b[0m             \u001b[0mmoves_list\u001b[0m\u001b[0;34m[\u001b[0m\u001b[0mi_direct\u001b[0m\u001b[0;34m]\u001b[0m \u001b[0;34m+=\u001b[0m \u001b[0mm\u001b[0m\u001b[0;34m\u001b[0m\u001b[0;34m\u001b[0m\u001b[0m\n\u001b[1;32m     26\u001b[0m             \u001b[0mcount\u001b[0m \u001b[0;34m+=\u001b[0m \u001b[0;36m1\u001b[0m\u001b[0;34m\u001b[0m\u001b[0;34m\u001b[0m\u001b[0m\n",
      "\u001b[0;31mNameError\u001b[0m: name 'get_opponent' is not defined"
     ]
    }
   ],
   "source": [
    "from board import Board\n",
    "\n",
    "def star_8_drections(board, player_mark, r):\n",
    "    \n",
    "    # Last moves of current board\n",
    "    last_moves = board.last_moves\n",
    "    \n",
    "    # Directions of different ways\n",
    "    directions = ((-1, 0), (-1, 1), (0, 1), (1, 1),\n",
    "                    (1, 0), (1, -1), (0, -1), (-1, -1))\n",
    "    \n",
    "    # The list storing moves of different directions\n",
    "    moves_list = [''] * len(directions)\n",
    "    \n",
    "    # Get moves\n",
    "    for i_direct, (d_i, d_j) in enumerate(directions):\n",
    "        count = 0\n",
    "        i, j = last_moves[player_mark]\n",
    "        while count < r:\n",
    "            i, j = i + d_i, j + d_j\n",
    "            if board.on_the_board((i, j)):\n",
    "                m = board.get_mark((i, j))\n",
    "            else:\n",
    "                m = get_opponent(player_mark)\n",
    "            moves_list[i_direct] += m\n",
    "            count += 1\n",
    "    \n",
    "    # ['--X--', '--X--', '--XOX', '--XX-']\n",
    "    return moves_list\n",
    "\n",
    "B = Board('-------\\n-------\\n--X----\\n---O-X-' \\\n",
    "        '\\n----X--\\n-------\\n-------\\n', 4, {'X': (4, 4), 'O': (3, 3)})\n",
    "\n",
    "print(B.board_for_print)\n",
    "print(star_8_drections(B, 'X', 5))"
   ]
  },
  {
   "cell_type": "code",
   "execution_count": 1,
   "metadata": {},
   "outputs": [
    {
     "output_type": "stream",
     "name": "stdout",
     "text": "0   1   2   3   4   5   6\n  -----------------------------\n0 |   |   |   |   |   | O |   | \n  -----------------------------\n1 |   |   |   | O | X |   |   | \n  -----------------------------\n2 |   |   | X | O | X |   |   | \n  -----------------------------\n3 |   |   |   | O |   | X |   | \n  -----------------------------\n4 |   |   |   |   | X |   |   | \n  -----------------------------\n5 |   |   |   | X | X |   |   | \n  -----------------------------\n6 |   |   |   |   | X |   |   | \n  -----------------------------\n\n"
    },
    {
     "output_type": "error",
     "ename": "NameError",
     "evalue": "name 'get_opponent' is not defined",
     "traceback": [
      "\u001b[0;31m---------------------------------------------------------------------------\u001b[0m",
      "\u001b[0;31mNameError\u001b[0m                                 Traceback (most recent call last)",
      "\u001b[0;32m<ipython-input-1-602e155488ea>\u001b[0m in \u001b[0;36m<module>\u001b[0;34m\u001b[0m\n\u001b[1;32m     45\u001b[0m \u001b[0;34m\u001b[0m\u001b[0m\n\u001b[1;32m     46\u001b[0m \u001b[0mprint\u001b[0m\u001b[0;34m(\u001b[0m\u001b[0mB\u001b[0m\u001b[0;34m.\u001b[0m\u001b[0mboard_for_print\u001b[0m\u001b[0;34m)\u001b[0m\u001b[0;34m\u001b[0m\u001b[0;34m\u001b[0m\u001b[0m\n\u001b[0;32m---> 47\u001b[0;31m \u001b[0mprint\u001b[0m\u001b[0;34m(\u001b[0m\u001b[0mstar_8_drections\u001b[0m\u001b[0;34m(\u001b[0m\u001b[0mB\u001b[0m\u001b[0;34m,\u001b[0m \u001b[0;34m'X'\u001b[0m\u001b[0;34m,\u001b[0m \u001b[0;36m5\u001b[0m\u001b[0;34m)\u001b[0m\u001b[0;34m)\u001b[0m\u001b[0;34m\u001b[0m\u001b[0;34m\u001b[0m\u001b[0m\n\u001b[0m",
      "\u001b[0;32m<ipython-input-1-602e155488ea>\u001b[0m in \u001b[0;36mstar_8_drections\u001b[0;34m(board, player_mark, r)\u001b[0m\n\u001b[1;32m     24\u001b[0m                 \u001b[0mm\u001b[0m \u001b[0;34m=\u001b[0m \u001b[0mboard\u001b[0m\u001b[0;34m.\u001b[0m\u001b[0mget_mark\u001b[0m\u001b[0;34m(\u001b[0m\u001b[0;34m(\u001b[0m\u001b[0mi\u001b[0m\u001b[0;34m,\u001b[0m \u001b[0mj\u001b[0m\u001b[0;34m)\u001b[0m\u001b[0;34m)\u001b[0m\u001b[0;34m\u001b[0m\u001b[0;34m\u001b[0m\u001b[0m\n\u001b[1;32m     25\u001b[0m             \u001b[0;32melse\u001b[0m\u001b[0;34m:\u001b[0m\u001b[0;34m\u001b[0m\u001b[0;34m\u001b[0m\u001b[0m\n\u001b[0;32m---> 26\u001b[0;31m                 \u001b[0mm\u001b[0m \u001b[0;34m=\u001b[0m \u001b[0mget_opponent\u001b[0m\u001b[0;34m(\u001b[0m\u001b[0mplayer_mark\u001b[0m\u001b[0;34m)\u001b[0m\u001b[0;34m\u001b[0m\u001b[0;34m\u001b[0m\u001b[0m\n\u001b[0m\u001b[1;32m     27\u001b[0m             \u001b[0mmoves_list\u001b[0m\u001b[0;34m[\u001b[0m\u001b[0mi_direct\u001b[0m\u001b[0;34m]\u001b[0m \u001b[0;34m+=\u001b[0m \u001b[0mm\u001b[0m\u001b[0;34m\u001b[0m\u001b[0;34m\u001b[0m\u001b[0m\n\u001b[1;32m     28\u001b[0m             \u001b[0mcount\u001b[0m \u001b[0;34m+=\u001b[0m \u001b[0;36m1\u001b[0m\u001b[0;34m\u001b[0m\u001b[0;34m\u001b[0m\u001b[0m\n",
      "\u001b[0;31mNameError\u001b[0m: name 'get_opponent' is not defined"
     ]
    }
   ],
   "source": [
    "import pickle\n",
    "from board import Board\n",
    "from strategies.scores import AdvancedScore\n",
    "\n",
    "def star_8_drections(board, player_mark, r):\n",
    "    \n",
    "    # Last moves of current board\n",
    "    last_moves = board.last_moves\n",
    "    \n",
    "    # Directions of different ways\n",
    "    directions = ((-1, 0), (-1, 1), (0, 1), (1, 1),\n",
    "                    (1, 0), (1, -1), (0, -1), (-1, -1))\n",
    "    \n",
    "    # The list storing moves of different directions\n",
    "    moves_list = [''] * len(directions)\n",
    "    \n",
    "    # Get moves\n",
    "    for i_direct, (d_i, d_j) in enumerate(directions):\n",
    "        count = 0\n",
    "        i, j = last_moves[player_mark]\n",
    "        while count < r:\n",
    "            i, j = i + d_i, j + d_j\n",
    "            if board.on_the_board((i, j)):\n",
    "                m = board.get_mark((i, j))\n",
    "            else:\n",
    "                m = get_opponent(player_mark)\n",
    "            moves_list[i_direct] += m\n",
    "            count += 1\n",
    "\n",
    "    # Get lines\n",
    "    lines_list = []\n",
    "    for i_left, i_right in [(0, 4), (1, 5), (2, 6), (3, 7)]:\n",
    "        lines_list.append(\n",
    "            moves_list[i_left][::-1] + player_mark + moves_list[i_right])\n",
    "\n",
    "    # move_list:\n",
    "    #     ['----O',i_X-OOO', '--OOO', '--OOO', \n",
    "    #      '--OOO', '--OOO', '----O', 'OX--O']\n",
    "    # line_list:\n",
    "    # \n",
    "    return moves_list, lines_list\n",
    "\n",
    "B = Board('-----O-\\n---OX--\\n--XOX--\\n---O-X-' \\\n",
    "        '\\n----X--\\n---XX--\\n----X--\\n', 4, {'X': (4, 4), 'O': (3, 3)})\n",
    "\n",
    "print(B.board_for_print)\n",
    "print(star_8_drections(B, 'X', 5))"
   ]
  },
  {
   "cell_type": "code",
   "execution_count": 11,
   "metadata": {},
   "outputs": [
    {
     "output_type": "stream",
     "name": "stdout",
     "text": "0   1   2   3   4   5   6   7   8   9   A   B\n  -------------------------------------------------\n0 |   |   |   |   |   |   |   |   |   |   |   |   | \n  -------------------------------------------------\n1 |   |   |   |   |   |   |   |   |   |   |   |   | \n  -------------------------------------------------\n2 |   |   |   |   |   |   |   |   | X |   |   |   | \n  -------------------------------------------------\n3 |   |   |   |   |   |   |   |   |   |   |   |   | \n  -------------------------------------------------\n4 |   | X | X | X | X |   |   |   |   |   |   |   | \n  -------------------------------------------------\n5 |   |   |   |   |   | O |   |   |   |   |   |   | \n  -------------------------------------------------\n6 |   |   |   |   |   |   | O |   |   |   |   |   | \n  -------------------------------------------------\n7 |   |   |   |   |   | O |   | O |   |   |   |   | \n  -------------------------------------------------\n8 |   |   |   |   | O |   |   |   | X |   |   |   | \n  -------------------------------------------------\n9 |   |   |   | O |   |   |   |   |   |   |   |   | \n  -------------------------------------------------\nA |   |   | O |   |   |   |   |   |   |   |   |   | \n  -------------------------------------------------\nB |   | X |   |   |   |   |   |   |   |   |   |   | \n  -------------------------------------------------\n\nnext_is_me False\nme: 32566.800000000007 1000000000000000.0\nopp: 2735.2000000000003 10000000000.0\n999988000029284.5\n"
    }
   ],
   "source": [
    "import pickle\n",
    "from board import Board\n",
    "from strategies.scores import AdvancedScore\n",
    "\n",
    "B = Board('------------\\n------------\\n--------X---\\n------------\\n-XXXX-------\\n-----O------\\n------O-----\\n-----O-O----\\n----O---X---\\n---O--------\\n--O---------\\n------------\\n', 6, {'X': (4, 1), 'O': (10, 2)})\n",
    "B.n_step = 13\n",
    "\n",
    "print(B.board_for_print)\n",
    "print(AdvancedScore(6).get_score(B, 'O'))"
   ]
  },
  {
   "cell_type": "code",
   "execution_count": 8,
   "metadata": {},
   "outputs": [
    {
     "output_type": "stream",
     "name": "stdout",
     "text": "0   1   2   3   4   5   6   7   8   9   A   B\n  -------------------------------------------------\n0 |   |   |   |   |   |   |   |   |   |   |   |   | \n  -------------------------------------------------\n1 |   |   |   |   |   |   |   |   |   |   |   |   | \n  -------------------------------------------------\n2 |   |   |   |   |   |   |   |   |   |   |   |   | \n  -------------------------------------------------\n3 |   |   |   |   |   |   |   |   |   |   |   |   | \n  -------------------------------------------------\n4 |   | X | X | X | X |   |   |   |   |   |   |   | \n  -------------------------------------------------\n5 |   |   |   |   |   | O |   |   |   |   |   |   | \n  -------------------------------------------------\n6 |   |   |   |   |   |   | O |   |   |   |   |   | \n  -------------------------------------------------\n7 |   |   |   |   |   | O |   | O |   |   |   |   | \n  -------------------------------------------------\n8 |   |   |   |   | O |   |   |   | X |   |   |   | \n  -------------------------------------------------\n9 |   |   |   |   |   |   |   |   |   |   |   |   | \n  -------------------------------------------------\nA |   |   |   |   |   |   |   |   |   |   |   |   | \n  -------------------------------------------------\nB |   |   |   |   |   |   |   |   |   |   |   |   | \n  -------------------------------------------------\n\nnext_is_me False\nme: 2735.2000000000003 1000000000000000.0\nopp: 353.5999999999999 0.0\n1000000000002310.9\n"
    }
   ],
   "source": [
    "B = Board('------------\\n------------\\n------------\\n------------\\n-XXXX-------\\n-----O------\\n------O-----\\n-----O-O----\\n----O---X---\\n------------\\n------------\\n------------\\n', 6, {'X': (4, 1), 'O': (8, 4)})\n",
    "B.n_step = 10\n",
    "\n",
    "print(B.board_for_print)\n",
    "print(AdvancedScore(6).get_score(B, 'X'))"
   ]
  },
  {
   "cell_type": "code",
   "execution_count": 9,
   "metadata": {},
   "outputs": [
    {
     "output_type": "stream",
     "name": "stdout",
     "text": "0   1   2   3   4   5   6   7   8   9   A   B\n  -------------------------------------------------\n0 |   |   |   |   |   |   |   |   |   |   |   |   | \n  -------------------------------------------------\n1 |   |   |   |   |   |   |   |   |   |   |   |   | \n  -------------------------------------------------\n2 |   |   |   |   |   |   |   |   |   |   |   |   | \n  -------------------------------------------------\n3 |   |   |   |   |   |   |   |   |   |   |   |   | \n  -------------------------------------------------\n4 |   | X | X | X | X |   |   |   |   |   |   |   | \n  -------------------------------------------------\n5 |   |   |   |   |   | O |   |   |   |   |   |   | \n  -------------------------------------------------\n6 |   |   |   |   |   |   | O |   |   |   |   |   | \n  -------------------------------------------------\n7 |   |   |   |   |   | O |   | O |   |   |   |   | \n  -------------------------------------------------\n8 |   |   |   |   | O |   |   |   | X |   |   |   | \n  -------------------------------------------------\n9 |   |   |   | O |   |   |   |   |   |   |   |   | \n  -------------------------------------------------\nA |   |   |   |   |   |   |   |   |   |   |   |   | \n  -------------------------------------------------\nB |   |   |   |   |   |   |   |   |   |   |   |   | \n  -------------------------------------------------\n\nnext_is_me True\nme: 2735.2000000000003 1000000000000000.0\nopp: 2735.2000000000003 1000000000000000.0\n200000000000547.0\n"
    }
   ],
   "source": [
    "B = Board('------------\\n------------\\n------------\\n------------\\n-XXXX-------\\n-----O------\\n------O-----\\n-----O-O----\\n----O---X---\\n---O--------\\n------------\\n------------\\n', 6, {'X': (4, 1), 'O': (9, 3)})\n",
    "B.n_step = 11\n",
    "\n",
    "print(B.board_for_print)\n",
    "print(AdvancedScore(6).get_score(B, 'X'))"
   ]
  },
  {
   "cell_type": "code",
   "execution_count": 5,
   "metadata": {},
   "outputs": [
    {
     "output_type": "execute_result",
     "data": {
      "text/plain": "True"
     },
     "metadata": {},
     "execution_count": 5
    }
   ],
   "source": [
    "import pickle\n",
    "\n",
    "with open('../data/advanced_score/straight_line_scores_O_6.pkl', 'rb') as f:\n",
    "    d = pickle.load(f)\n",
    "'-OOOOO-XXXX' in d"
   ]
  },
  {
   "cell_type": "code",
   "execution_count": 6,
   "metadata": {},
   "outputs": [
    {
     "output_type": "execute_result",
     "data": {
      "text/plain": "20000000000"
     },
     "metadata": {},
     "execution_count": 6
    }
   ],
   "source": [
    "d['-OOOOO-XXXX']"
   ]
  },
  {
   "cell_type": "code",
   "execution_count": null,
   "metadata": {},
   "outputs": [],
   "source": []
  },
  {
   "cell_type": "code",
   "execution_count": 3,
   "metadata": {},
   "outputs": [
    {
     "output_type": "execute_result",
     "data": {
      "text/plain": "True"
     },
     "metadata": {},
     "execution_count": 3
    }
   ],
   "source": [
    "import pickle\n",
    "with open('../data/advanced_score/straight_line_scores_O_6.pkl',  'rb') as f:\n",
    "    d = pickle.load(f)\n",
    "'--OOOO--XXX' in d.keys()"
   ]
  },
  {
   "cell_type": "code",
   "execution_count": null,
   "metadata": {},
   "outputs": [],
   "source": []
  }
 ]
}