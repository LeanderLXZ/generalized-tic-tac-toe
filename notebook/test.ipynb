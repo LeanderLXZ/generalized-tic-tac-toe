{
 "nbformat": 4,
 "nbformat_minor": 2,
 "metadata": {
  "language_info": {
   "name": "python",
   "codemirror_mode": {
    "name": "ipython",
    "version": 3
   },
   "version": "3.7.4-final"
  },
  "orig_nbformat": 2,
  "file_extension": ".py",
  "mimetype": "text/x-python",
  "name": "python",
  "npconvert_exporter": "python",
  "pygments_lexer": "ipython3",
  "version": 3,
  "kernelspec": {
   "name": "python37464bitbaseconda4a4eef5c921a4747a14d73bcd3654411",
   "display_name": "Python 3.7.4 64-bit ('base': conda)"
  }
 },
 "cells": [
  {
   "cell_type": "code",
   "execution_count": 1,
   "metadata": {},
   "outputs": [],
   "source": [
    "n = 12\n",
    "b = ('-' * n + '\\n') * n"
   ]
  },
  {
   "cell_type": "code",
   "execution_count": 2,
   "metadata": {},
   "outputs": [
    {
     "output_type": "execute_result",
     "data": {
      "text/plain": "'------------\\n------------\\n------------\\n------------\\n------------\\n------------\\n------------\\n------------\\n------------\\n------------\\n------------\\n------------\\n'"
     },
     "metadata": {},
     "execution_count": 2
    }
   ],
   "source": [
    "b"
   ]
  },
  {
   "cell_type": "code",
   "execution_count": 53,
   "metadata": {},
   "outputs": [
    {
     "output_type": "execute_result",
     "data": {
      "text/plain": "2"
     },
     "metadata": {},
     "execution_count": 53
    }
   ],
   "source": [
    "m = [('1', (1, 2)), (2, (3, 4)), (1, (5, 6))]\n",
    "m.insert(0, (2, (4, 5)))\n",
    "m[0][0]"
   ]
  },
  {
   "cell_type": "code",
   "execution_count": 126,
   "metadata": {},
   "outputs": [],
   "source": [
    "import numpy as np\n",
    "from copy import copy\n",
    "\n",
    "class Board(object):\n",
    "    \"\"\"The board of generalized TIC-TAC-TOE game.\n",
    "    \"\"\"\n",
    "    BLANK_SPACE = '-'\n",
    "    PLAYER_1 = 'O'\n",
    "    PLAYER_2 = 'X'\n",
    "\n",
    "    def __init__(self, board, moves=None):\n",
    "        self.board = board\n",
    "        self.moves = moves if moves else []\n",
    "        self.moved = False\n",
    "        self.width = len(board.split('\\n')[0])\n",
    "        self.height = len(board.split('\\n')[:-1])\n",
    "\n",
    "        self._board_state = self.get_board_state()\n",
    "    \n",
    "    def get_board_state(self):\n",
    "        state = np.empty((self.height, self.width), dtype='str')\n",
    "        for i, row in enumerate(self.board.split('\\n')[:-1]):\n",
    "            for j, cell in enumerate(row):\n",
    "                if cell in [self.BLANK_SPACE, self.PLAYER_1, self.PLAYER_2]:\n",
    "                    state[i, j] = cell\n",
    "                else:\n",
    "                    raise ValueError(\"Illegal input board!\")\n",
    "        return state\n",
    "\n",
    "    def copy(self):\n",
    "        return Board(self.board, self.moves)\n",
    "\n",
    "    def forecast_move(self, move, player):\n",
    "        new_board = self.copy()\n",
    "        new_board.apply_move(move, player)\n",
    "        return new_board\n",
    "\n",
    "    def move_is_legal(self, move):\n",
    "        # TODO: Note the index starts from 0\n",
    "        i = move[0]\n",
    "        j = move[1]\n",
    "        return (0 <= i < self.height and 0 <= j < self.width and\n",
    "                self._board_state[i, j] == self.BLANK_SPACE and not self.moved)\n",
    "\n",
    "    @property\n",
    "    def legal_moves(self):\n",
    "        return np.argwhere(self._board_state == self.BLANK_SPACE)\n",
    "\n",
    "    def apply_move(self, move, player):\n",
    "        if self.move_is_legal(move):\n",
    "            self._board_state[move[0], move[1]] = player\n",
    "            self.board = '\\n'.join([''.join(row) for row in self._board_state]) + '\\n'\n",
    "            self.moves.insert(0, (player, tuple(move)))\n",
    "            self.moved = True\n",
    "        else:\n",
    "            raise ValueError('Illegal move!')\n",
    "    \n",
    "    def is_winner(self, player):\n",
    "        if self.moves and player == self.moves[0][0]:\n",
    "            latest_move = self.moves[0][1]\n",
    "            directions = (((0, 1), (0, -1)), ((1, 0), (-1, 0)),\n",
    "                          ((1, 1), (-1, -1)), ((1, -1), (-1, 1)))\n",
    "            for bi_directions in directions:\n",
    "                count = 1\n",
    "                for d_i, d_j in bi_directions:\n",
    "                    i, j = latest_move\n",
    "                    while True:\n",
    "                        i, j = i + d_i, j + d_j\n",
    "                        if (not self.move_is_legal((i, j)) \\\n",
    "                                and self._board_state[i, j] != player):\n",
    "                            break\n",
    "                        count += 1\n",
    "                        if count == 5:\n",
    "                            return True\n",
    "            return False\n",
    "        else: \n",
    "            raise ValueError('Input player is not activated!')\n",
    "    \n",
    "    @property\n",
    "    def board_for_print(self):\n",
    "\n",
    "        axises = list('0123456789ABCDEFGHIJKLMNOPQRSTUVWXYZ')\n",
    "        out = '    ' + '   '.join(axises[:self.width]) + '\\n\\r'\n",
    "        out += '  ' + '-' * (self.width * 4 + 1) + '\\n\\r'\n",
    "        for i in range(self.height):\n",
    "            out += axises[i] + ' | '\n",
    "            for j in range(self.width):\n",
    "                if self._board_state[i, j] == '-':\n",
    "                    out += ' '\n",
    "                else:\n",
    "                    out += self._board_state[i, j]\n",
    "                out += ' | '\n",
    "            out += '\\n\\r'\n",
    "            out += '  ' + '-' * (self.width * 4 + 1) + '\\n\\r'\n",
    "\n",
    "        return out"
   ]
  },
  {
   "cell_type": "code",
   "execution_count": 127,
   "metadata": {},
   "outputs": [],
   "source": [
    "b = '------------\\n------------\\n------------\\n------------\\n------------\\n------------\\n------------\\n------------\\n------------\\n------------\\n------------\\n------------\\n'\n",
    "\n",
    "B = Board(b, None)"
   ]
  },
  {
   "cell_type": "code",
   "execution_count": 144,
   "metadata": {},
   "outputs": [
    {
     "output_type": "stream",
     "name": "stdout",
     "text": "0   1   2   3   4   5   6   7   8   9   A   B\n  -------------------------------------------------\n0 |   |   |   |   |   |   |   |   |   |   |   |   | \n  -------------------------------------------------\n1 |   |   |   |   |   |   |   |   |   |   |   |   | \n  -------------------------------------------------\n2 |   |   |   |   |   |   |   |   |   |   |   |   | \n  -------------------------------------------------\n3 |   |   |   |   |   |   |   |   |   |   |   |   | \n  -------------------------------------------------\n4 |   |   |   |   |   | X |   | X | X |   | X |   | \n  -------------------------------------------------\n5 |   |   |   |   | O | O | O | O | O |   |   |   | \n  -------------------------------------------------\n6 |   |   |   |   |   |   |   |   |   |   |   |   | \n  -------------------------------------------------\n7 |   |   |   |   |   |   |   |   |   |   |   |   | \n  -------------------------------------------------\n8 |   |   |   |   |   |   |   |   |   |   |   |   | \n  -------------------------------------------------\n9 |   |   |   |   |   |   |   |   |   |   |   |   | \n  -------------------------------------------------\nA |   |   |   |   |   |   |   |   |   |   |   |   | \n  -------------------------------------------------\nB |   |   |   |   |   |   |   |   |   |   |   |   | \n  -------------------------------------------------\n\n"
    }
   ],
   "source": [
    "B = B.forecast_move((5, 8), 'O')\n",
    "print(B.board_for_print)"
   ]
  },
  {
   "cell_type": "code",
   "execution_count": 143,
   "metadata": {},
   "outputs": [
    {
     "output_type": "stream",
     "name": "stdout",
     "text": "0   1   2   3   4   5   6   7   8   9   A   B\n  -------------------------------------------------\n0 |   |   |   |   |   |   |   |   |   |   |   |   | \n  -------------------------------------------------\n1 |   |   |   |   |   |   |   |   |   |   |   |   | \n  -------------------------------------------------\n2 |   |   |   |   |   |   |   |   |   |   |   |   | \n  -------------------------------------------------\n3 |   |   |   |   |   |   |   |   |   |   |   |   | \n  -------------------------------------------------\n4 |   |   |   |   |   | X |   | X | X |   | X |   | \n  -------------------------------------------------\n5 |   |   |   |   | O | O | O | O |   |   |   |   | \n  -------------------------------------------------\n6 |   |   |   |   |   |   |   |   |   |   |   |   | \n  -------------------------------------------------\n7 |   |   |   |   |   |   |   |   |   |   |   |   | \n  -------------------------------------------------\n8 |   |   |   |   |   |   |   |   |   |   |   |   | \n  -------------------------------------------------\n9 |   |   |   |   |   |   |   |   |   |   |   |   | \n  -------------------------------------------------\nA |   |   |   |   |   |   |   |   |   |   |   |   | \n  -------------------------------------------------\nB |   |   |   |   |   |   |   |   |   |   |   |   | \n  -------------------------------------------------\n\n"
    }
   ],
   "source": [
    "B = B.forecast_move((4, 10), 'X')\n",
    "print(B.board_for_print)"
   ]
  },
  {
   "cell_type": "code",
   "execution_count": 145,
   "metadata": {},
   "outputs": [
    {
     "output_type": "execute_result",
     "data": {
      "text/plain": "True"
     },
     "metadata": {},
     "execution_count": 145
    }
   ],
   "source": [
    "B.is_winner('O')"
   ]
  },
  {
   "cell_type": "code",
   "execution_count": 147,
   "metadata": {},
   "outputs": [],
   "source": [
    "a = input('inp: ')"
   ]
  },
  {
   "cell_type": "code",
   "execution_count": 158,
   "metadata": {},
   "outputs": [
    {
     "output_type": "execute_result",
     "data": {
      "text/plain": "True"
     },
     "metadata": {},
     "execution_count": 158
    }
   ],
   "source": [
    "type(eval(a)) is tuple"
   ]
  },
  {
   "cell_type": "code",
   "execution_count": 163,
   "metadata": {},
   "outputs": [
    {
     "output_type": "execute_result",
     "data": {
      "text/plain": "0"
     },
     "metadata": {},
     "execution_count": 163
    }
   ],
   "source": [
    "a = np.array([-547240, 503320, 11407360, 11407360])"
   ]
  },
  {
   "cell_type": "code",
   "execution_count": 171,
   "metadata": {},
   "outputs": [
    {
     "output_type": "execute_result",
     "data": {
      "text/plain": "True"
     },
     "metadata": {},
     "execution_count": 171
    }
   ],
   "source": [
    "a = np.array(['-', '0'])\n",
    "len(np.argwhere(a == 'X')) == 0"
   ]
  },
  {
   "cell_type": "code",
   "execution_count": 176,
   "metadata": {},
   "outputs": [],
   "source": [
    "a = '----------\\n----X-----\\n-------O--\\n----------\\n----------\\n'"
   ]
  },
  {
   "cell_type": "code",
   "execution_count": 178,
   "metadata": {},
   "outputs": [
    {
     "output_type": "execute_result",
     "data": {
      "text/plain": "'??????????????x????????????o??????????????????????'"
     },
     "metadata": {},
     "execution_count": 178
    }
   ],
   "source": [
    "''.join(a.split('\\n')).replace('-', '?').replace('X', 'x').replace('O', 'o')"
   ]
  },
  {
   "cell_type": "code",
   "execution_count": null,
   "metadata": {},
   "outputs": [],
   "source": []
  }
 ]
}